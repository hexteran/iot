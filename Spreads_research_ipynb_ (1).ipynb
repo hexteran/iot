{
  "nbformat": 4,
  "nbformat_minor": 0,
  "metadata": {
    "colab": {
      "name": "Spreads research.ipynb\"",
      "provenance": [],
      "collapsed_sections": []
    },
    "kernelspec": {
      "name": "python3",
      "display_name": "Python 3"
    },
    "language_info": {
      "name": "python"
    }
  },
  "cells": [
    {
      "cell_type": "code",
      "metadata": {
        "id": "0fNE8vG5Qm5V"
      },
      "source": [
        "import requests\n",
        "import json\n",
        "import urllib\n",
        "import datetime\n",
        "import pandas as pd\n",
        "import numpy as np\n",
        "import scipy.stats\n",
        "import matplotlib.pyplot as plt\n",
        "from google.colab import drive\n",
        "import matplotlib.pyplot as plt\n",
        "import warnings\n",
        "warnings.filterwarnings('ignore')\n",
        "drive.mount('/content/gdrive')"
      ],
      "execution_count": null,
      "outputs": []
    },
    {
      "cell_type": "markdown",
      "metadata": {
        "id": "qgFuoeNBM-8f"
      },
      "source": [
        "# Грузим данные"
      ]
    },
    {
      "cell_type": "code",
      "metadata": {
        "id": "41kJdwBnUvQd",
        "colab": {
          "base_uri": "https://localhost:8080/"
        },
        "outputId": "ec62e7e6-01dc-4265-93f5-d4adc2b16b6b"
      },
      "source": [
        "#deribit\n",
        "start_time = datetime.datetime(2021,7,6,0,0,0)\n",
        "start_time = str(int(start_time.timestamp())*1000)\n",
        "end_time = datetime.datetime(2021,7,10,0,0,0)\n",
        "end_time = str(int(end_time.timestamp())*1000)\n",
        "has_more = Trueёё\n",
        "trades = {'price':[],'timestamp':[],'time':[]}\n",
        "while has_more == True:\n",
        "  request = 'https://deribit.com/api/v2/public/get_last_trades_by_instrument_and_time?count=1000&start_timestamp='+start_time+'&end_timestamp='+end_time+'&instrument_name=BTC-24SEP21'\n",
        "  response = urllib.request.urlopen(request)\n",
        "  result = response.read()\n",
        "  has_more = json.loads(result)['result']['has_more']\n",
        "  print(has_more)\n",
        "  result = json.loads(result)['result']['trades']\n",
        "  for i in result:\n",
        "    trades['price'].append(i['price'])\n",
        "    trades['timestamp'].append(i['timestamp'])\n",
        "    trades['time'].append(pd.to_datetime(datetime.datetime.fromtimestamp(i['timestamp']/1000).strftime('%Y-%m-%d %H:%M:%S')))\n",
        "  start_time = str(np.max(trades['timestamp']))\n",
        "DERIBIT_trades = pd.DataFrame(trades)"
      ],
      "execution_count": null,
      "outputs": [
        {
          "output_type": "stream",
          "text": [
            "True\n",
            "True\n",
            "True\n",
            "True\n",
            "True\n",
            "True\n",
            "True\n",
            "True\n",
            "True\n",
            "True\n",
            "True\n",
            "True\n",
            "True\n",
            "True\n",
            "True\n",
            "True\n",
            "True\n",
            "True\n",
            "True\n",
            "True\n",
            "True\n",
            "True\n",
            "True\n",
            "True\n",
            "True\n",
            "True\n",
            "True\n",
            "True\n",
            "True\n",
            "True\n",
            "True\n",
            "True\n",
            "True\n",
            "True\n",
            "True\n",
            "True\n",
            "True\n",
            "True\n",
            "True\n",
            "True\n",
            "True\n",
            "True\n",
            "True\n",
            "True\n",
            "True\n",
            "True\n",
            "True\n",
            "True\n",
            "True\n",
            "True\n",
            "True\n",
            "True\n",
            "True\n",
            "True\n",
            "True\n",
            "True\n",
            "True\n",
            "True\n",
            "True\n",
            "True\n",
            "True\n",
            "True\n",
            "True\n",
            "True\n",
            "True\n",
            "True\n",
            "True\n",
            "True\n",
            "True\n",
            "True\n",
            "True\n",
            "True\n",
            "True\n",
            "True\n",
            "True\n",
            "True\n",
            "True\n",
            "True\n",
            "False\n"
          ],
          "name": "stdout"
        }
      ]
    },
    {
      "cell_type": "code",
      "metadata": {
        "id": "rCry6p1QVJH8",
        "colab": {
          "base_uri": "https://localhost:8080/"
        },
        "outputId": "8571ccd7-1e69-4e22-e953-f9571fe732ab"
      },
      "source": [
        "#binance\n",
        "\n",
        "raw_data_0507 = pd.read_csv(\"/content/gdrive/My Drive/Quant/data/binance trades/BTCUSDT_210924-trades-2021-07-05.csv\", header = None)\n",
        "raw_data_0607 = pd.read_csv(\"/content/gdrive/My Drive/Quant/data/binance trades/BTCUSDT_210924-trades-2021-07-06.csv\", header = None)\n",
        "raw_data_0707 = pd.read_csv(\"/content/gdrive/My Drive/Quant/data/binance trades/BTCUSDT_210924-trades-2021-07-07.csv\", header = None)\n",
        "raw_data_0807 = pd.read_csv(\"/content/gdrive/My Drive/Quant/data/binance trades/BTCUSDT_210924-trades-2021-07-08.csv\", header = None)\n",
        "raw_data_0907 = pd.read_csv(\"/content/gdrive/My Drive/Quant/data/binance trades/BTCUSDT_210924-trades-2021-07-09.csv\", header = None)\n",
        "BINANCE_trades = pd.concat([raw_data_0507,raw_data_0607, raw_data_0707, raw_data_0807,raw_data_0907])[[1,4]]\n",
        "BINANCE_trades.columns = ['price','timestamp']\n",
        "time = []\n",
        "for i in range(0,len(BINANCE_trades)):\n",
        "  time.append(pd.to_datetime(datetime.datetime.fromtimestamp(BINANCE_trades['timestamp'].iloc[i]/1000).strftime('%Y-%m-%d %H:%M:%S')))\n",
        "BINANCE_trades['time']=time"
      ],
      "execution_count": null,
      "outputs": [
        {
          "output_type": "stream",
          "text": [
            "Drive already mounted at /content/gdrive; to attempt to forcibly remount, call drive.mount(\"/content/gdrive\", force_remount=True).\n"
          ],
          "name": "stdout"
        }
      ]
    },
    {
      "cell_type": "code",
      "metadata": {
        "id": "f5TDL5yrxYwx"
      },
      "source": [
        "minutes = pd.date_range(start = '2021-07-03 00:00:00',end = '2021-07-05 00:00:00',freq = '1min')\n",
        "changes = {'time':[],'open':[],'close':[],'high':[],'low':[]}\n",
        "counter = 0\n",
        "for i in range(len(minutes)-1):\n",
        "  bsml = BINANCE_trades[(BINANCE_trades['time']>=minutes[i])&(BINANCE_trades['time']<minutes[i+1])]\n",
        "  dsml = DERIBIT_trades[(DERIBIT_trades['time']>=minutes[i])&(DERIBIT_trades['time']<minutes[i+1])]\n",
        "  j = 0\n",
        "  k = 0\n",
        "  if (len(dsml)==0 or len(bsml)==0):\n",
        "    counter+=1\n",
        "    continue\n",
        "  last_time_bsml = bsml['timestamp'].iloc[0]\n",
        "  last_time_dsml = dsml['timestamp'].iloc[0]\n",
        "\n",
        "  changes['open'].append(dsml['price'].iloc[0] - bsml['price'].iloc[0])\n",
        "  changes['time'].append(minutes[i])\n",
        "  changes['close'].append(dsml['price'].iloc[-1] - bsml['price'].iloc[-1])\n",
        "  \n",
        "  lilchan = []\n",
        "  bsml['type'] = [-1 for i in range(len(bsml))]\n",
        "  dsml['type'] = [1 for i in range(len(dsml))]\n",
        "  concated = pd.concat([bsml,dsml])\n",
        "  concated = concated.sort_values(by='timestamp')\n",
        "  k = 0\n",
        "  while concated['type'].iloc[k]==1:\n",
        "    k+=1\n",
        "  j = 0\n",
        "  while concated['type'].iloc[j]==-1:\n",
        "    j+=1\n",
        "  j=max(j,k)\n",
        "  last_a = concated.iloc[j]\n",
        "  last_b = concated.iloc[j-1]\n",
        "  lilchan.append(concated['price'].iloc[j]*concated['type'].iloc[j]+concated['price'].iloc[j-1]*concated['type'].iloc[j-1])\n",
        "  j+=1\n",
        "  \n",
        "  while(j<len(concated)):\n",
        "    if last_a['type'] == concated['type'].iloc[j]:\n",
        "      lilchan.append(lilchan[-1]-last_a['price']*last_a['type']+concated['price'].iloc[j]*concated['type'].iloc[j])\n",
        "      last_a = concated.iloc[j]\n",
        "    else:\n",
        "      lilchan.append(lilchan[-1]-last_b['price']*last_b['type']+concated['price'].iloc[j]*concated['type'].iloc[j])\n",
        "      last_b = concated.iloc[j]\n",
        "    #print(last_a['price'], last_b['price'],lilchan[-1])\n",
        "    j+=1\n",
        "  #lilchan = []\n",
        "  a = concated[concated['type']==-1]\n",
        "  b = concated[concated['type']==1] \n",
        "  changes['high'].append(max(lilchan))\n",
        "  changes['low'].append(min(lilchan))\n",
        "changes = pd.DataFrame(changes)"
      ],
      "execution_count": null,
      "outputs": []
    },
    {
      "cell_type": "markdown",
      "metadata": {
        "id": "yDcDqWztRqEh"
      },
      "source": [
        "# Смотрим характеристики спреда"
      ]
    },
    {
      "cell_type": "code",
      "metadata": {
        "id": "LFZuHvNFRt3e"
      },
      "source": [
        "beginning = pd.to_datetime('2021-07-06 00:00:00')\n",
        "ending =   pd.to_datetime('2021-07-10 00:00:00')\n",
        "feerate = 0.001\n",
        "changes = {'timestamp':[], 'time':[], 'price':[], 'fee':[], 'prper':[]}\n",
        "counter = 0\n",
        "for i in range(0,1):#len(minutes)-1):\n",
        "  bsml = BINANCE_trades[(BINANCE_trades['time']>=beginning)&(BINANCE_trades['time']<ending)]\n",
        "  dsml = DERIBIT_trades[(DERIBIT_trades['time']>=beginning)&(DERIBIT_trades['time']<ending)]\n",
        " # print(bsml)\n",
        " # print(dsml)\n",
        "  j = 0\n",
        "  k = 0\n",
        "  if (len(dsml)==0 or len(bsml)==0):\n",
        "    counter+=1\n",
        "    continue\n",
        "\n",
        "  bsml['type'] = [-1 for i in range(len(bsml))]\n",
        "  dsml['type'] = [1 for i in range(len(dsml))]\n",
        "  concated = pd.concat([bsml,dsml])\n",
        "  concated = concated.sort_values(by='timestamp')\n",
        "  k = 0\n",
        "  while concated['type'].iloc[k]==1:\n",
        "    k+=1\n",
        "  j = 0\n",
        "  while concated['type'].iloc[j]==-1:\n",
        "    j+=1\n",
        "  j=max(j,k)\n",
        "\n",
        "  last_a = concated.iloc[j]\n",
        "  last_b = concated.iloc[j-1]\n",
        "\n",
        "  changes['price'].append(concated['price'].iloc[j]*concated['type'].iloc[j]+concated['price'].iloc[j-1]*concated['type'].iloc[j-1])\n",
        "  changes['time'].append(pd.to_datetime(concated['time'].iloc[j]))\n",
        "  changes['timestamp'].append(concated['timestamp'].iloc[j])\n",
        "  changes['fee'].append((concated['price'].iloc[j]+concated['price'].iloc[j-1])*feerate)\n",
        "  changes['prper'].append(concated['price'].iloc[j]+concated['price'].iloc[j-1])\n",
        "  j+=1\n",
        "  \n",
        "  while(j<len(concated)):\n",
        "    if last_a['type'] == concated['type'].iloc[j]:\n",
        "      changes['price'].append(changes['price'][-1]-last_a['price']*last_a['type']+concated['price'].iloc[j]*concated['type'].iloc[j])\n",
        "      last_a = concated.iloc[j]\n",
        "      changes['time'].append(pd.to_datetime(last_a['time']))\n",
        "      changes['timestamp'].append(last_a['timestamp'])\n",
        "      changes['fee'].append((last_a['price']+last_b['price'])*feerate)\n",
        "      changes['prper'].append(last_a['price']+last_b['price'])\n",
        "    else:\n",
        "      changes['price'].append(changes['price'][-1]-last_b['price']*last_b['type']+concated['price'].iloc[j]*concated['type'].iloc[j])\n",
        "      last_b = concated.iloc[j]\n",
        "      changes['time'].append(pd.to_datetime(last_b['time']))\n",
        "      changes['timestamp'].append(last_b['timestamp'])\n",
        "      changes['fee'].append((last_a['price']+last_b['price'])*feerate)\n",
        "      changes['prper'].append(last_a['price']+last_b['price'])\n",
        "    #print(j)\n",
        "    j+=1\n",
        "\n",
        "changes = pd.DataFrame(changes)"
      ],
      "execution_count": null,
      "outputs": []
    },
    {
      "cell_type": "code",
      "metadata": {
        "colab": {
          "base_uri": "https://localhost:8080/",
          "height": 624
        },
        "id": "jfNaMnJEx59y",
        "outputId": "ce5bfbdf-d019-43dd-cb9a-145700eb6166"
      },
      "source": [
        "plt.figure(figsize = (10,10))\n",
        "plt.plot(range((len(changes))),changes['price']/changes['fee'], color ='red')\n",
        "plt.grid()\n",
        "plt.title('Спреды по уровням в зависимости от времени')"
      ],
      "execution_count": null,
      "outputs": [
        {
          "output_type": "execute_result",
          "data": {
            "text/plain": [
              "Text(0.5, 1.0, 'Спреды по уровням в зависимости от времени')"
            ]
          },
          "metadata": {
            "tags": []
          },
          "execution_count": 19
        },
        {
          "output_type": "display_data",
          "data": {
            "image/png": "[encoded data removed]",
            "text/plain": [
              "<Figure size 720x720 with 1 Axes>"
            ]
          },
          "metadata": {
            "tags": [],
            "needs_background": "light"
          }
        }
      ]
    },
    {
      "cell_type": "code",
      "metadata": {
        "colab": {
          "base_uri": "https://localhost:8080/"
        },
        "id": "lO3JmCDv5kKz",
        "outputId": "44480f4d-4659-4aeb-d44a-20058356e8dd"
      },
      "source": [
        "#квантили\n",
        "hours = pd.date_range(start = '2021-07-06 00:00:00',end = '2021-07-10 00:00:00',freq = '15min')\n",
        "results = {'mean':[],'std':[],'minmax':[]}\n",
        "for i in range(len(hours[:-1])):\n",
        "  lch = changes[(changes['time']>=hours[i])&((changes['time']<hours[i+1]))]\n",
        "  results['mean'].append(np.mean(lch['price']/lch['fee']))\n",
        "  results['std'].append(np.std(lch['price']/lch['fee']))\n",
        "  results['minmax'].append((np.max(lch['price']/lch['fee'])-np.min(lch['price']/lch['fee'])))\n",
        "results = pd.DataFrame(results)\n",
        "#results = np.array(results['mean'].iloc[1:].to_list())-np.array(results['mean'].iloc[:-1].to_list())\n",
        "step = 0.05\n",
        "print(np.max(results['minmax']),np.std(results['minmax']))\n",
        "print(' q \\t   v')\n",
        "for i in np.arange(0,1,step):\n",
        "  print(np.around(i+step,2),'\\t',np.around(np.quantile(np.array(results['mean'].iloc[1:].to_list())-np.array(results['mean'].iloc[0:-1].to_list()),i+step),2))"
      ],
      "execution_count": null,
      "outputs": [
        {
          "output_type": "stream",
          "text": [
            "4.584202755085095 0.5235881706349942\n",
            " q \t   v\n",
            "0.05 \t -0.29\n",
            "0.1 \t -0.23\n",
            "0.15 \t -0.19\n",
            "0.2 \t -0.15\n",
            "0.25 \t -0.11\n",
            "0.3 \t -0.09\n",
            "0.35 \t -0.07\n",
            "0.4 \t -0.05\n",
            "0.45 \t -0.02\n",
            "0.5 \t 0.0\n",
            "0.55 \t 0.02\n",
            "0.6 \t 0.05\n",
            "0.65 \t 0.06\n",
            "0.7 \t 0.08\n",
            "0.75 \t 0.11\n",
            "0.8 \t 0.14\n",
            "0.85 \t 0.18\n",
            "0.9 \t 0.23\n",
            "0.95 \t 0.3\n",
            "1.0 \t 0.66\n"
          ],
          "name": "stdout"
        }
      ]
    },
    {
      "cell_type": "code",
      "metadata": {
        "colab": {
          "base_uri": "https://localhost:8080/"
        },
        "id": "0mRZJYUJ9NSG",
        "outputId": "44480f4d-4659-4aeb-d44a-20058356e8dd"
      },
      "source": [
        "#квантили\n",
        "hours = pd.date_range(start = '2021-07-06 00:00:00',end = '2021-07-10 00:00:00',freq = '15min')\n",
        "results = {'mean':[],'std':[],'minmax':[]}\n",
        "for i in range(len(hours[:-1])):\n",
        "  lch = changes[(changes['time']>=hours[i])&((changes['time']<hours[i+1]))]\n",
        "  results['mean'].append(np.mean(lch['price']))\n",
        "  results['std'].append(np.std(lch['price']))\n",
        "  results['minmax'].append((np.max(lch['price'])-np.min(lch['price'])))\n",
        "results = pd.DataFrame(results)\n",
        "#results = np.array(results['mean'].iloc[1:].to_list())-np.array(results['mean'].iloc[:-1].to_list())\n",
        "step = 0.05\n",
        "print(np.max(results['minmax']),np.std(results['minmax']))\n",
        "print(' q \\t   v')\n",
        "for i in np.arange(0,1,step):\n",
        "  print(np.around(i+step,2),'\\t',np.around(np.quantile(np.array(results['mean'].iloc[1:].to_list())-np.array(results['mean'].iloc[0:-1].to_list()),i+step),2))"
      ],
      "execution_count": null,
      "outputs": [
        {
          "output_type": "stream",
          "text": [
            "4.584202755085095 0.5235881706349942\n",
            " q \t   v\n",
            "0.05 \t -0.29\n",
            "0.1 \t -0.23\n",
            "0.15 \t -0.19\n",
            "0.2 \t -0.15\n",
            "0.25 \t -0.11\n",
            "0.3 \t -0.09\n",
            "0.35 \t -0.07\n",
            "0.4 \t -0.05\n",
            "0.45 \t -0.02\n",
            "0.5 \t 0.0\n",
            "0.55 \t 0.02\n",
            "0.6 \t 0.05\n",
            "0.65 \t 0.06\n",
            "0.7 \t 0.08\n",
            "0.75 \t 0.11\n",
            "0.8 \t 0.14\n",
            "0.85 \t 0.18\n",
            "0.9 \t 0.23\n",
            "0.95 \t 0.3\n",
            "1.0 \t 0.66\n"
          ],
          "name": "stdout"
        }
      ]
    },
    {
      "cell_type": "code",
      "metadata": {
        "colab": {
          "base_uri": "https://localhost:8080/",
          "height": 625
        },
        "id": "XTYbgAPigmBu",
        "outputId": "cfedd4aa-56a9-49f0-d3c4-80448efa6125"
      },
      "source": [
        "fees = []\n",
        "step = 0.25\n",
        "for i in np.arange(-4,4,step):\n",
        "  fees.append(len((changes[(changes['price']<changes['fee']*(i+step)) & (changes['price'] >= changes['fee']*i)]))/len(changes))\n",
        "plt.figure(figsize = (10,10))\n",
        "plt.plot(np.arange(-4,4,step),fees)\n",
        "plt.grid()\n",
        "plt.title('Распределение спреда в зависимости от доли от сборов')\n"
      ],
      "execution_count": null,
      "outputs": [
        {
          "output_type": "execute_result",
          "data": {
            "text/plain": [
              "Text(0.5, 1.0, 'Распределение спреда в зависимости от доли от сборов')"
            ]
          },
          "metadata": {
            "tags": []
          },
          "execution_count": 23
        },
        {
          "output_type": "display_data",
          "data": {
            "image/png": "[encoded data removed]",
            "text/plain": [
              "<Figure size 720x720 with 1 Axes>"
            ]
          },
          "metadata": {
            "tags": [],
            "needs_background": "light"
          }
        }
      ]
    },
    {
      "cell_type": "code",
      "metadata": {
        "colab": {
          "base_uri": "https://localhost:8080/"
        },
        "id": "1D5JyrQcrBPK",
        "outputId": "b31ecf9b-cbc6-401f-b2d0-8b5500cdaa60"
      },
      "source": [
        "#абсолютные квантили\n",
        "print(np.mean(changes['price']/changes['fee']))\n",
        "print(np.std(changes['price']/changes['fee']))\n",
        "step = 0.05\n",
        "print(' q \\t   v')\n",
        "levels = {'квантиль':[], 'цена/сбор':[], 'цена абс.':[],'цена отн.':[]}\n",
        "for i in np.arange(0,1,step):\n",
        "  print(np.around(i+step,2),'\\t',np.around(np.quantile(changes['price']/changes['fee'],i+step),2))\n",
        "  levels['квантиль'].append(i+step)\n",
        "  levels['цена/сбор'].append(np.around(np.quantile(changes['price']/changes['fee'],i+step)))\n",
        "#print(' ')\n",
        "for i in np.arange(0,1,step):\n",
        "  print(np.around(i+step,2),'\\t',np.around(np.quantile(changes['price'],i+step),2))\n",
        "  levels['цена абс.'].append(np.around(np.quantile(changes['price'],i+step),2))\n",
        "#print(' ')\n",
        "for i in np.arange(0,1,step):\n",
        "  print(np.around(i+step,2),'\\t',np.around(np.quantile(changes['price']/changes['prper'],i+step),5))\n",
        "  levels['цена отн.'].append(np.around(np.quantile(changes['price']/changes['prper'],i+step),5))"
      ],
      "execution_count": null,
      "outputs": [
        {
          "output_type": "stream",
          "text": [
            "-1.1379093171012282\n",
            "0.4211406566672062\n",
            " q \t   v\n",
            "0.05 \t -1.83\n",
            "0.1 \t -1.67\n",
            "0.15 \t -1.56\n",
            "0.2 \t -1.48\n",
            "0.25 \t -1.41\n",
            "0.3 \t -1.35\n",
            "0.35 \t -1.3\n",
            "0.4 \t -1.24\n",
            "0.45 \t -1.19\n",
            "0.5 \t -1.14\n",
            "0.55 \t -1.09\n",
            "0.6 \t -1.03\n",
            "0.65 \t -0.98\n",
            "0.7 \t -0.92\n",
            "0.75 \t -0.86\n",
            "0.8 \t -0.8\n",
            "0.85 \t -0.72\n",
            "0.9 \t -0.62\n",
            "0.95 \t -0.48\n",
            "1.0 \t 2.31\n",
            "0.05 \t -124.1\n",
            "0.1 \t -113.0\n",
            "0.15 \t -105.7\n",
            "0.2 \t -100.3\n",
            "0.25 \t -95.8\n",
            "0.3 \t -91.7\n",
            "0.35 \t -87.8\n",
            "0.4 \t -84.3\n",
            "0.45 \t -80.8\n",
            "0.5 \t -77.3\n",
            "0.55 \t -73.7\n",
            "0.6 \t -70.1\n",
            "0.65 \t -66.3\n",
            "0.7 \t -62.5\n",
            "0.75 \t -58.4\n",
            "0.8 \t -53.9\n",
            "0.85 \t -48.8\n",
            "0.9 \t -42.5\n",
            "0.95 \t -32.5\n",
            "1.0 \t 152.8\n",
            "0.05 \t -0.00183\n",
            "0.1 \t -0.00167\n",
            "0.15 \t -0.00156\n",
            "0.2 \t -0.00148\n",
            "0.25 \t -0.00141\n",
            "0.3 \t -0.00135\n",
            "0.35 \t -0.0013\n",
            "0.4 \t -0.00124\n",
            "0.45 \t -0.00119\n",
            "0.5 \t -0.00114\n",
            "0.55 \t -0.00109\n",
            "0.6 \t -0.00103\n",
            "0.65 \t -0.00098\n",
            "0.7 \t -0.00092\n",
            "0.75 \t -0.00086\n",
            "0.8 \t -0.0008\n",
            "0.85 \t -0.00072\n",
            "0.9 \t -0.00062\n",
            "0.95 \t -0.00048\n",
            "1.0 \t 0.00231\n"
          ],
          "name": "stdout"
        }
      ]
    },
    {
      "cell_type": "code",
      "metadata": {
        "id": "NZIeWYePEV9a"
      },
      "source": [
        "hours = pd.date_range(start = '2021-07-06 00:00:00',end = '2021-07-10 00:00:00',freq = '1H')\n",
        "levels['1H абс.'] = []\n",
        "#levels['1H относ.'] = []\n",
        "for j in range(len(levels['цена абс.'])):\n",
        "  ka = []\n",
        "  kr = []\n",
        "  for t in range(len(hours)-1):\n",
        "    lch = changes[(changes['time']>=hours[t])&((changes['time']<hours[t+1]))]\n",
        "    ka.append(len(lch[lch['price']<=levels['цена абс.'][j]]))\n",
        "    kr.append(ka[-1]/len(lch))\n",
        "  levels['1H абс.'].append(np.around(np.mean(ka)))\n",
        "  #levels['1H относ.'].append(np.around(np.mean(kr),4))"
      ],
      "execution_count": null,
      "outputs": []
    },
    {
      "cell_type": "code",
      "metadata": {
        "colab": {
          "base_uri": "https://localhost:8080/"
        },
        "id": "C9xI9q20_9St",
        "outputId": "9c2619af-bf74-439d-bca9-88ad77879ddd"
      },
      "source": [
        "levels['1H абс.']"
      ],
      "execution_count": null,
      "outputs": [
        {
          "output_type": "execute_result",
          "data": {
            "text/plain": [
              "[92.0,\n",
              " 184.0,\n",
              " 276.0,\n",
              " 370.0,\n",
              " 461.0,\n",
              " 551.0,\n",
              " 646.0,\n",
              " 736.0,\n",
              " 830.0,\n",
              " 921.0,\n",
              " 1012.0,\n",
              " 1102.0,\n",
              " 1197.0,\n",
              " 1289.0,\n",
              " 1382.0,\n",
              " 1473.0,\n",
              " 1565.0,\n",
              " 1657.0,\n",
              " 1749.0,\n",
              " 1841.0]"
            ]
          },
          "metadata": {
            "tags": []
          },
          "execution_count": 66
        }
      ]
    },
    {
      "cell_type": "code",
      "metadata": {
        "id": "SYtPLt6RrJiX"
      },
      "source": [
        "#тест Дики-Фуллера\n",
        "from statsmodels.tsa.stattools import adfuller\n",
        "adresults = []\n",
        "hours = pd.date_range(start = '2021-07-05 00:00:00',end = '2021-07-09 00:00:00',freq = '5h')\n",
        "\n",
        "for i in range(len(hours)-1):\n",
        "  a = changes[(changes['time']>=hours[i]) & (changes['time']<hours[i+1])]\n",
        "  if len(a)>0:\n",
        "   adresults.append(adfuller(a['price']/a['fee'], regression='c')[0])"
      ],
      "execution_count": null,
      "outputs": []
    },
    {
      "cell_type": "code",
      "metadata": {
        "colab": {
          "base_uri": "https://localhost:8080/"
        },
        "id": "hmZ5UDiLerzH",
        "outputId": "cd1cc5f3-c031-4276-ce1f-2bc9dbcd5c7f"
      },
      "source": [
        "np.sum([i<-3.5 for i in adresults])/len(adresults)"
      ],
      "execution_count": null,
      "outputs": [
        {
          "output_type": "execute_result",
          "data": {
            "text/plain": [
              "1.0"
            ]
          },
          "metadata": {
            "tags": []
          },
          "execution_count": 31
        }
      ]
    },
    {
      "cell_type": "code",
      "metadata": {
        "colab": {
          "base_uri": "https://localhost:8080/"
        },
        "id": "9t9vNv1qbDOg",
        "outputId": "fb22977f-8457-4e47-f162-15e8d73c4d4d"
      },
      "source": [
        "periods = [300, 600, 1200, 2400]\n",
        "thresholds = [1,1.2,1.4,1.6,1.8,2.0]\n",
        "for threshold in thresholds:\n",
        "  print('\\nпороговое значение:',threshold)\n",
        "  #print('период ск.средней', 'количество сделок', 'ср. профит', 'мин.профит', 'ср. время удержания')\n",
        "  for period in periods:\n",
        "    upper = []\n",
        "    lower = []\n",
        "    times = []\n",
        "    memento = 0\n",
        "    upperflag = False\n",
        "    lowerflag = False\n",
        "    consider = pd.DataFrame(changes['price']/changes['fee'])\n",
        "    consider['time'] = changes['time']\n",
        "    consider.columns = ['price','time']\n",
        "    sma = consider['price'].rolling(period).mean()\n",
        "    for i in range(period, len(consider)):\n",
        "      #print(consider.iloc[i]-sma.iloc[i])\n",
        "      if upperflag == False and consider['price'].iloc[i]-sma.iloc[i]>threshold:\n",
        "        tbeg = consider['time'].iloc[i]\n",
        "        #memento = consider['price'].iloc[i]\n",
        "        memento = sma.iloc[i]+threshold\n",
        "        upperflag = True\n",
        "      elif upperflag == True and consider['price'].iloc[i]-sma.iloc[i]<0:\n",
        "        times.append(consider['time'].iloc[i]-tbeg)\n",
        "        #upper.append(memento - consider['price'].iloc[i])\n",
        "        upper.append(memento - sma.iloc[i])\n",
        "        upperflag = False\n",
        "    print(period,'\\t', len(upper),'\\t', np.around(np.mean(upper),3),'\\t', np.around(np.min(upper),3), '\\t', np.mean(times))"
      ],
      "execution_count": null,
      "outputs": [
        {
          "output_type": "stream",
          "text": [
            "\n",
            "пороговое значение: 1\n",
            "300 \t 90 \t 0.888 \t -0.159 \t 0 days 00:00:29.966666666\n",
            "600 \t 98 \t 0.942 \t 0.371 \t 0 days 00:00:44.397959183\n",
            "1200 \t 101 \t 0.967 \t 0.639 \t 0 days 00:01:00.891089108\n",
            "2400 \t 92 \t 0.979 \t 0.771 \t 0 days 00:01:14.141304347\n",
            "\n",
            "пороговое значение: 1.2\n",
            "300 \t 40 \t 1.035 \t 0.055 \t 0 days 00:00:21.250000\n",
            "600 \t 44 \t 1.111 \t 0.571 \t 0 days 00:00:28.409090909\n",
            "1200 \t 43 \t 1.149 \t 0.839 \t 0 days 00:00:39.139534883\n",
            "2400 \t 42 \t 1.168 \t 0.974 \t 0 days 00:01:03.238095238\n",
            "\n",
            "пороговое значение: 1.4\n",
            "300 \t 19 \t 1.167 \t 0.261 \t 0 days 00:00:29.894736842\n",
            "600 \t 24 \t 1.295 \t 0.771 \t 0 days 00:00:28.375000\n",
            "1200 \t 28 \t 1.347 \t 1.039 \t 0 days 00:00:42.785714285\n",
            "2400 \t 28 \t 1.364 \t 1.175 \t 0 days 00:00:47.107142857\n",
            "\n",
            "пороговое значение: 1.6\n",
            "300 \t 14 \t 1.32 \t 0.467 \t 0 days 00:00:36.642857142\n",
            "600 \t 17 \t 1.474 \t 0.977 \t 0 days 00:00:33.705882352\n",
            "1200 \t 16 \t 1.527 \t 1.239 \t 0 days 00:00:37.437500\n",
            "2400 \t 14 \t 1.544 \t 1.402 \t 0 days 00:00:46.785714285\n",
            "\n",
            "пороговое значение: 1.8\n",
            "300 \t 11 \t 1.477 \t 0.722 \t 0 days 00:00:42.090909090\n",
            "600 \t 12 \t 1.644 \t 1.177 \t 0 days 00:00:39.333333333\n",
            "1200 \t 13 \t 1.72 \t 1.442 \t 0 days 00:00:37.384615384\n",
            "2400 \t 8 \t 1.718 \t 1.629 \t 0 days 00:01:04\n",
            "\n",
            "пороговое значение: 2.0\n",
            "300 \t 6 \t 1.574 \t 1.077 \t 0 days 00:00:59.833333333\n",
            "600 \t 7 \t 1.804 \t 1.377 \t 0 days 00:00:55\n",
            "1200 \t 8 \t 1.899 \t 1.642 \t 0 days 00:00:48.875000\n",
            "2400 \t 6 \t 1.897 \t 1.832 \t 0 days 00:01:11.833333333\n"
          ],
          "name": "stdout"
        }
      ]
    },
    {
      "cell_type": "code",
      "metadata": {
        "colab": {
          "base_uri": "https://localhost:8080/"
        },
        "id": "uxEo4kv0si5s",
        "outputId": "2ab43638-4d32-4cf6-de52-fd88166621cb"
      },
      "source": [
        "periods = [300, 600, 1200, 2400]\n",
        "thresholds = [1,1.2,1.4,1.6,1.8,2.0]\n",
        "for threshold in thresholds:\n",
        "  print('\\nпороговое значение:',threshold)\n",
        "  #print('период ск.средней', 'количество сделок', 'ср. профит', 'мин.профит', 'ср. время удержания')\n",
        "  for period in periods:\n",
        "    upper = []\n",
        "    lower = []\n",
        "    times = []\n",
        "    memento = 0\n",
        "    upperflag = False\n",
        "    lowerflag = False\n",
        "    consider = pd.DataFrame(changes['price']/changes['fee'])\n",
        "    consider['time'] = changes['time']\n",
        "    consider.columns = ['price','time']\n",
        "    sma = consider['price'].rolling(period).mean()\n",
        "    for i in range(period, len(consider)):\n",
        "      #print(consider.iloc[i]-sma.iloc[i])\n",
        "      if upperflag == False and consider['price'].iloc[i]-sma.iloc[i]<-threshold:\n",
        "        tbeg = consider['time'].iloc[i]\n",
        "        #memento = consider['price'].iloc[i]\n",
        "        memento = sma.iloc[i] - threshold\n",
        "        upperflag = True\n",
        "      elif upperflag == True and consider['price'].iloc[i]-sma.iloc[i]>0:\n",
        "        times.append(consider['time'].iloc[i]-tbeg)\n",
        "        #upper.append(-memento + consider['price'].iloc[i])\n",
        "        upper.append(-memento + sma.iloc[i])\n",
        "        upperflag = False\n",
        "    print(period,'\\t', len(upper),'\\t', np.around(np.mean(upper),3),'\\t', np.around(np.min(upper),3),'\\t', np.mean(times))"
      ],
      "execution_count": null,
      "outputs": [
        {
          "output_type": "stream",
          "text": [
            "\n",
            "пороговое значение: 1\n",
            "300 \t 71 \t 0.896 \t 0.135 \t 0 days 00:00:47.478873239\n",
            "600 \t 82 \t 0.951 \t 0.617 \t 0 days 00:01:01.353658536\n",
            "1200 \t 82 \t 0.969 \t 0.649 \t 0 days 00:01:08.170731707\n",
            "2400 \t 83 \t 0.985 \t 0.87 \t 0 days 00:01:15.927710843\n",
            "\n",
            "пороговое значение: 1.2\n",
            "300 \t 31 \t 1.036 \t 0.328 \t 0 days 00:01:02.032258064\n",
            "600 \t 31 \t 1.138 \t 0.817 \t 0 days 00:01:31.129032258\n",
            "1200 \t 35 \t 1.174 \t 1.07 \t 0 days 00:01:08\n",
            "2400 \t 32 \t 1.186 \t 1.156 \t 0 days 00:01:39.656250\n",
            "\n",
            "пороговое значение: 1.4\n",
            "300 \t 17 \t 1.207 \t 0.529 \t 0 days 00:00:51.529411764\n",
            "600 \t 16 \t 1.348 \t 1.22 \t 0 days 00:00:52.312500\n",
            "1200 \t 16 \t 1.374 \t 1.307 \t 0 days 00:00:51.750000\n",
            "2400 \t 16 \t 1.386 \t 1.356 \t 0 days 00:01:33.500000\n",
            "\n",
            "пороговое значение: 1.6\n",
            "300 \t 8 \t 1.342 \t 0.841 \t 0 days 00:00:29.875000\n",
            "600 \t 8 \t 1.54 \t 1.42 \t 0 days 00:00:23.375000\n",
            "1200 \t 9 \t 1.568 \t 1.507 \t 0 days 00:01:15\n",
            "2400 \t 8 \t 1.579 \t 1.556 \t 0 days 00:01:36.250000\n",
            "\n",
            "пороговое значение: 1.8\n",
            "300 \t 5 \t 1.463 \t 1.088 \t 0 days 00:00:46.400000\n",
            "600 \t 5 \t 1.721 \t 1.62 \t 0 days 00:00:22\n",
            "1200 \t 5 \t 1.762 \t 1.707 \t 0 days 00:00:21.800000\n",
            "2400 \t 4 \t 1.769 \t 1.756 \t 0 days 00:00:25.750000\n",
            "\n",
            "пороговое значение: 2.0\n",
            "300 \t 2 \t 1.531 \t 1.288 \t 0 days 00:00:18\n",
            "600 \t 2 \t 1.854 \t 1.82 \t 0 days 00:00:54\n",
            "1200 \t 3 \t 1.953 \t 1.907 \t 0 days 00:00:36\n",
            "2400 \t 4 \t 1.978 \t 1.956 \t 0 days 00:00:25.750000\n"
          ],
          "name": "stdout"
        }
      ]
    },
    {
      "cell_type": "code",
      "metadata": {
        "colab": {
          "base_uri": "https://localhost:8080/"
        },
        "id": "pvpF6AkZm_Y_",
        "outputId": "1351cbd0-2bf4-4227-c037-f45c1a4b27bf"
      },
      "source": [
        "print(np.mean(upper), np.min(upper),len(upper), np.mean(times))"
      ],
      "execution_count": null,
      "outputs": [
        {
          "output_type": "stream",
          "text": [
            "1.2227614418697164 0.9592884806754045 92 0 days 00:01:14.141304347\n"
          ],
          "name": "stdout"
        }
      ]
    },
    {
      "cell_type": "code",
      "metadata": {
        "colab": {
          "base_uri": "https://localhost:8080/"
        },
        "id": "MHCywixWp62B",
        "outputId": "db5318a2-d548-418d-fd88-e7a552dc8345"
      },
      "source": [
        "np.mean(times)"
      ],
      "execution_count": null,
      "outputs": [
        {
          "output_type": "execute_result",
          "data": {
            "text/plain": [
              "Timedelta('0 days 00:01:01.714285714')"
            ]
          },
          "metadata": {
            "tags": []
          },
          "execution_count": 220
        }
      ]
    },
    {
      "cell_type": "markdown",
      "metadata": {
        "id": "mZ8w0V9dNdOm"
      },
      "source": [
        "# Трейдингвью, но спред считаем сами\n"
      ]
    },
    {
      "cell_type": "code",
      "metadata": {
        "colab": {
          "base_uri": "https://localhost:8080/"
        },
        "id": "s_63xpfRNhO0",
        "outputId": "6b6ccb26-2c4f-4da4-c65a-cddccd90a767"
      },
      "source": [
        "from google.colab import drive\n",
        "import matplotlib.pyplot as plt\n",
        "import warnings\n",
        "warnings.filterwarnings('ignore')\n",
        "drive.mount('/content/gdrive')\n",
        "BINANCE_candles = pd.read_csv(\"/content/gdrive/My Drive/Quant/data/tradingview/BINANCE_BTCU2021, 1 (3).csv\")\n",
        "DERIBIT_candles = pd.read_csv(\"/content/gdrive/My Drive/Quant/data/tradingview/DERIBIT_BTC24U21, 1 (1).csv\")\n",
        "dat = []\n",
        "for i in range(0,len(DERIBIT_candles)):\n",
        "  dat.append(pd.to_datetime(datetime.datetime.fromtimestamp(DERIBIT_candles['time'].iloc[i]).strftime('%Y-%m-%d %H:%M:%S')))\n",
        "DERIBIT_candles['datetime']=dat\n",
        "dat = []\n",
        "for i in range(0,len(BINANCE_candles)):\n",
        "  dat.append(pd.to_datetime(datetime.datetime.fromtimestamp(BINANCE_candles['time'].iloc[i]).strftime('%Y-%m-%d %H:%M:%S')))\n",
        "BINANCE_candles['datetime']=dat"
      ],
      "execution_count": null,
      "outputs": [
        {
          "output_type": "stream",
          "text": [
            "Drive already mounted at /content/gdrive; to attempt to forcibly remount, call drive.mount(\"/content/gdrive\", force_remount=True).\n",
            "             time     open     high      low    close  Volume  Volume MA\n",
            "0      1624233600  35817.0  35858.0  35808.5  35858.0    9070        NaN\n",
            "1      1624233660  35827.0  35827.0  35779.0  35810.0    2130        NaN\n",
            "2      1624233720  35805.5  35963.0  35805.5  35947.5   12480        NaN\n",
            "3      1624233780  35949.0  36011.5  35949.0  35993.5    4650        NaN\n",
            "4      1624233840  35872.0  35872.0  35757.5  35757.5    4060        NaN\n",
            "...           ...      ...      ...      ...      ...     ...        ...\n",
            "22157  1625750580  32709.5  32724.0  32709.5  32724.0    2030     8042.5\n",
            "22158  1625750640  32718.0  32718.0  32717.5  32717.5    5010     7982.5\n",
            "22159  1625750700  32705.0  32705.0  32705.0  32705.0    4040     8081.5\n",
            "22160  1625750760  32750.5  32750.5  32749.5  32749.5   23020     9230.0\n",
            "22161  1625750880  32774.0  32774.0  32758.5  32758.5    2640     8431.0\n",
            "\n",
            "[22162 rows x 7 columns]\n"
          ],
          "name": "stdout"
        }
      ]
    },
    {
      "cell_type": "code",
      "metadata": {
        "id": "udk0hQjVOrwQ"
      },
      "source": [
        "changes_high = []\n",
        "changes_low = []\n",
        "merged = pd.merge(DERIBIT_candles, BINANCE_candles, on = ['datetime'], suffixes = ['DER','BIN'])\n",
        "merged = merged[merged['datetime']>pd.to_datetime(\"2021-06-27\")]\n",
        "for i in range(len(merged)):\n",
        "  changes_high.append((merged['highDER'].iloc[i]-merged['highBIN'].iloc[i])/(merged['highDER'].iloc[i]*0.001+merged['highBIN'].iloc[i]*0.001))\n",
        "  changes_low.append((merged['lowDER'].iloc[i]-merged['lowBIN'].iloc[i])/(merged['lowDER'].iloc[i]*0.001+merged['lowBIN'].iloc[i]*0.001))\n",
        "  #changes.append(merged['open_DER'].iloc[i]-merged['close_BIN'].iloc[i])"
      ],
      "execution_count": null,
      "outputs": []
    },
    {
      "cell_type": "code",
      "metadata": {
        "colab": {
          "base_uri": "https://localhost:8080/",
          "height": 592
        },
        "id": "0UK6sBPrPHDR",
        "outputId": "17b2ad6b-b132-4d08-96fc-197e977bbe76"
      },
      "source": [
        "plt.figure(figsize = (10,10))\n",
        "plt.plot(merged['datetime'],changes_high)\n",
        "plt.grid()\n",
        "#plt.plot(range(len(changes_low)),changes_low)"
      ],
      "execution_count": null,
      "outputs": [
        {
          "output_type": "display_data",
          "data": {
            "image/png": "[encoded data removed]",
            "text/plain": [
              "<Figure size 720x720 with 1 Axes>"
            ]
          },
          "metadata": {
            "tags": [],
            "needs_background": "light"
          }
        }
      ]
    },
    {
      "cell_type": "code",
      "metadata": {
        "id": "kD-aQMX_T3xX"
      },
      "source": [
        "num_mins = len(merged)\n",
        "results = {'mean':[],'std':[]}\n",
        "for t in range(0,num_mins,30):\n",
        "  d = []\n",
        "  for j in range(30):\n",
        "    try:\n",
        "      d.append((changes_high[j+t]+changes_low[j+t])/2)\n",
        "    except:\n",
        "      break\n",
        "  results['mean'].append(np.mean(d))\n",
        "  results['std'].append(np.std(d))\n",
        " # results.append((np.mean(d), np.std(d)))\n",
        "results = pd.DataFrame(results)"
      ],
      "execution_count": null,
      "outputs": []
    },
    {
      "cell_type": "code",
      "metadata": {
        "colab": {
          "base_uri": "https://localhost:8080/"
        },
        "id": "jmum5_juWRcp",
        "outputId": "0f0f97ad-fcb6-4667-9ca3-7364c9cb6fd4"
      },
      "source": [
        "changes_high = []\n",
        "changes_low = []\n",
        "for i in range(len(merged)):\n",
        "  changes_high.append((merged['highDER'].iloc[i]-merged['highBIN'].iloc[i]))\n",
        "  if changes_high[-1]==0:\n",
        "    changes_high[-1]=0.001\n",
        "  changes_low.append((merged['lowDER'].iloc[i]-merged['lowBIN'].iloc[i]))\n",
        "deltas1 = (-np.array(changes_high[0:-2])+np.array(changes_high[1:-1]))/np.array(changes_high[0:-2])\n",
        "deltas2 = (-np.array(changes_high[1:-1])+np.array(changes_high[2:]))/np.array(changes_high[1:-1])\n",
        "np.corrcoef(deltas1,deltas2)"
      ],
      "execution_count": null,
      "outputs": [
        {
          "output_type": "execute_result",
          "data": {
            "text/plain": [
              "array([[ 1.00000000e+00, -8.86398885e-05],\n",
              "       [-8.86398885e-05,  1.00000000e+00]])"
            ]
          },
          "metadata": {
            "tags": []
          },
          "execution_count": 297
        }
      ]
    },
    {
      "cell_type": "code",
      "metadata": {
        "id": "xMHY3SH2WZro"
      },
      "source": [
        "for i in changes_high:\n",
        "  if i==0:\n",
        "    print(i)"
      ],
      "execution_count": null,
      "outputs": []
    },
    {
      "cell_type": "code",
      "metadata": {
        "colab": {
          "base_uri": "https://localhost:8080/"
        },
        "id": "Dt0BS7DTW3YK",
        "outputId": "668cfb64-474d-47bb-eff1-d1b14b8a6ecc"
      },
      "source": [
        "step = 0.05\n",
        "print(' q \\t   v')\n",
        "for i in np.arange(0,1,step):\n",
        "  print(np.around(i+step,2),'\\t',np.around(np.quantile(np.array(results['mean'].iloc[1:].to_list())-np.array(results['mean'].iloc[0:-1].to_list()),i+step),2))\n"
      ],
      "execution_count": null,
      "outputs": [
        {
          "output_type": "stream",
          "text": [
            " q \t   v\n",
            "0.05 \t -0.25\n",
            "0.1 \t -0.21\n",
            "0.15 \t -0.15\n",
            "0.2 \t -0.12\n",
            "0.25 \t -0.09\n",
            "0.3 \t -0.07\n",
            "0.35 \t -0.05\n",
            "0.4 \t -0.03\n",
            "0.45 \t -0.02\n",
            "0.5 \t -0.0\n",
            "0.55 \t 0.01\n",
            "0.6 \t 0.03\n",
            "0.65 \t 0.05\n",
            "0.7 \t 0.06\n",
            "0.75 \t 0.08\n",
            "0.8 \t 0.11\n",
            "0.85 \t 0.14\n",
            "0.9 \t 0.19\n",
            "0.95 \t 0.26\n",
            "1.0 \t 0.44\n"
          ],
          "name": "stdout"
        }
      ]
    },
    {
      "cell_type": "code",
      "metadata": {
        "colab": {
          "base_uri": "https://localhost:8080/"
        },
        "id": "OWTFXL6Kadau",
        "outputId": "554394ec-9279-409c-d09f-f67bac580afb"
      },
      "source": [
        "np.array(results['mean'].iloc[1:].to_list())-np.array(results['mean'].iloc[0:-1].to_list())"
      ],
      "execution_count": null,
      "outputs": [
        {
          "output_type": "execute_result",
          "data": {
            "text/plain": [
              "array([-3.03367314e-01,  2.32680176e-01,  2.09462655e-01,  2.12290110e-01,\n",
              "        2.73263118e-01, -3.87768279e-02, -3.61790601e-01,  1.57985785e-01,\n",
              "        4.90747963e-01, -1.79442452e-02, -1.70231084e-01, -4.60817957e-01,\n",
              "        2.68213151e-01,  3.88709541e-01,  1.08525766e-01,  9.05167768e-01,\n",
              "       -9.58386701e-02, -4.77515015e-01,  7.11873015e-04,  1.02374726e+00,\n",
              "        4.53878267e-01,  7.46959071e-02,  1.93419547e-01,  3.97310186e-01,\n",
              "        4.30957547e-01, -3.20865772e-01, -1.15928998e+00, -6.94472354e-01,\n",
              "        1.81851024e-01, -2.94005216e-01,  4.53418239e-01,  2.55453929e-01,\n",
              "        8.91414769e-02,  3.40170696e-01, -3.11775273e-01, -6.39783979e-01,\n",
              "       -4.57715313e-01, -6.80120931e-02, -6.16479897e-02,  3.30933018e-01,\n",
              "        8.71290292e-02, -2.95095949e-01,  1.87080739e-01,  2.45540307e-01,\n",
              "        7.71487751e-01, -2.22586285e-01,  6.04544691e-01, -1.90879608e-01,\n",
              "        1.28399370e-01, -7.59257514e-02,  4.04633575e-01,  1.04391005e-01,\n",
              "        1.83871310e-01,  1.17714441e-01,  7.88933618e-02, -7.28310001e-02,\n",
              "        5.81793041e-01, -3.39507622e-01, -1.38037309e-01,  1.68426697e-01,\n",
              "        2.56466128e-01, -1.49959381e-01,  6.26130781e-02,  4.39804201e-01,\n",
              "       -1.99711600e-02, -3.19541595e-02,  2.52601093e-01, -4.63191675e-02,\n",
              "       -7.18807689e-02,  1.79701476e-02, -2.05517770e-01,  2.09905991e-01,\n",
              "        1.56336696e-01, -5.67743640e-01, -2.46837274e-01,  1.96152681e-01,\n",
              "        2.49178059e-02, -2.64483890e-01,  3.36699150e-01, -2.08713383e-01,\n",
              "       -2.71258432e-01,  3.42099025e-01, -1.65818190e-02,  4.27277088e-03,\n",
              "        2.15710985e-01, -3.18534741e-02, -1.87739260e-01,  2.72691264e-01,\n",
              "       -1.15214731e-01, -2.41482957e-01,  2.68904921e-01, -1.24280970e-01,\n",
              "       -1.37833170e-02,  2.03037898e-01,  4.54387113e-02, -1.06783529e-01,\n",
              "       -4.32086621e-02,  4.93460826e-01, -6.26214922e-01,  2.74843060e-02,\n",
              "       -2.58720654e-01, -6.86232380e-01, -1.44252038e-01, -6.14811850e-02,\n",
              "        2.45627139e-01, -1.17755716e-01,  3.16288776e-01, -5.01270221e-02,\n",
              "        1.29329057e-01, -5.44988126e-02,  1.67963755e-01, -3.36363784e-01,\n",
              "        4.96078971e-02,  4.78206272e-01,  5.18114920e-03,  2.77578703e-02,\n",
              "       -1.81978490e-01,  1.14405629e-01, -1.18421851e-01, -2.67007947e-01,\n",
              "        1.91965876e-03,  3.02230454e-02,  8.13538338e-02, -5.82288259e-02,\n",
              "        1.64015105e-01,  1.50947457e-01,  4.55779305e-02,  3.73278379e-02,\n",
              "       -4.36343815e-01,  2.43843662e-01,  5.61564405e-02,  1.10077812e-01,\n",
              "        2.54383263e-02, -1.62407288e-02,  1.01877614e-01, -5.62668823e-02,\n",
              "       -1.20109263e-01, -1.11149400e-01, -1.54880677e-02, -7.49450179e-02,\n",
              "       -1.40498646e-01,  1.74013093e-01,  6.49477193e-02, -4.09572658e-02,\n",
              "        4.06442752e-02, -1.98058180e-01, -3.77666916e-03,  2.46602196e-01,\n",
              "       -1.36544042e-01, -1.77779430e-01,  6.19046764e-02, -1.14793414e-01,\n",
              "        1.01001505e-01,  6.32843797e-02,  1.83475993e-01, -3.21874876e-02,\n",
              "        3.04626961e-02,  3.05644109e-01, -2.29537860e-01, -3.31985669e-01,\n",
              "       -1.96171259e-01,  2.11320635e-01,  2.74761612e-01, -1.37457838e-01,\n",
              "       -1.07101676e-01, -1.49101460e-01, -2.76776689e-01,  1.14231896e-01,\n",
              "       -2.19647050e-01,  2.23798928e-01, -1.55407791e-01,  3.28975592e-02,\n",
              "        2.22887292e-01, -1.51673097e-01,  1.18643369e-01, -1.86584387e-01,\n",
              "        2.04594046e-03,  2.34473632e-01,  3.40580397e-01])"
            ]
          },
          "metadata": {
            "tags": []
          },
          "execution_count": 266
        }
      ]
    },
    {
      "cell_type": "code",
      "metadata": {
        "colab": {
          "base_uri": "https://localhost:8080/"
        },
        "id": "lUsO8kZMav86",
        "outputId": "44accdce-bad5-49e6-b9ea-a08475f55f0b"
      },
      "source": [
        "results['mean'].iloc[0:-1]"
      ],
      "execution_count": null,
      "outputs": [
        {
          "output_type": "execute_result",
          "data": {
            "text/plain": [
              "0     -3.912463\n",
              "1     -4.140524\n",
              "2     -4.334728\n",
              "3     -4.324994\n",
              "4     -4.017415\n",
              "         ...   \n",
              "354   -0.979921\n",
              "355   -1.059557\n",
              "356   -0.905990\n",
              "357   -0.664541\n",
              "358   -0.313938\n",
              "Name: mean, Length: 359, dtype: float64"
            ]
          },
          "metadata": {
            "tags": []
          },
          "execution_count": 207
        }
      ]
    },
    {
      "cell_type": "code",
      "metadata": {
        "id": "gOHMlMXLayIB"
      },
      "source": [
        ""
      ],
      "execution_count": null,
      "outputs": []
    },
    {
      "cell_type": "markdown",
      "metadata": {
        "id": "M2gSAh8jviHv"
      },
      "source": [
        "# Трейдингвью, но спред"
      ]
    },
    {
      "cell_type": "code",
      "metadata": {
        "colab": {
          "base_uri": "https://localhost:8080/",
          "height": 432
        },
        "id": "fAxzOvBGvolz",
        "outputId": "99f93965-7569-4b92-a45d-777f6df1db1e"
      },
      "source": [
        "from google.colab import drive\n",
        "import matplotlib.pyplot as plt\n",
        "import warnings\n",
        "warnings.filterwarnings('ignore')\n",
        "drive.mount('/content/gdrive')\n",
        "SPREAD_candles = pd.read_csv(\"/content/gdrive/My Drive/Quant/data/tradingview/HUOBI_ETH24U2021-KRAKEN_ETHUSD24U, 1.csv\")\n",
        "dat = []\n",
        "for i in range(0,len(SPREAD_candles)):\n",
        "  dat.append(pd.to_datetime(datetime.datetime.fromtimestamp(SPREAD_candles['time'].iloc[i]).strftime('%Y-%m-%d %H:%M:%S')))\n",
        "SPREAD_candles['datetime']=dat\n",
        "SPREAD_candles[SPREAD_candles['datetime']>pd.to_datetime('2021-07-01')]"
      ],
      "execution_count": null,
      "outputs": [
        {
          "output_type": "stream",
          "text": [
            "Drive already mounted at /content/gdrive; to attempt to forcibly remount, call drive.mount(\"/content/gdrive\", force_remount=True).\n"
          ],
          "name": "stdout"
        },
        {
          "output_type": "execute_result",
          "data": {
            "text/html": [
              "<div>\n",
              "<style scoped>\n",
              "    .dataframe tbody tr th:only-of-type {\n",
              "        vertical-align: middle;\n",
              "    }\n",
              "\n",
              "    .dataframe tbody tr th {\n",
              "        vertical-align: top;\n",
              "    }\n",
              "\n",
              "    .dataframe thead th {\n",
              "        text-align: right;\n",
              "    }\n",
              "</style>\n",
              "<table border=\"1\" class=\"dataframe\">\n",
              "  <thead>\n",
              "    <tr style=\"text-align: right;\">\n",
              "      <th></th>\n",
              "      <th>time</th>\n",
              "      <th>open</th>\n",
              "      <th>high</th>\n",
              "      <th>low</th>\n",
              "      <th>close</th>\n",
              "      <th>Volume</th>\n",
              "      <th>Volume MA</th>\n",
              "      <th>datetime</th>\n",
              "    </tr>\n",
              "  </thead>\n",
              "  <tbody>\n",
              "    <tr>\n",
              "      <th>14862</th>\n",
              "      <td>1625097660</td>\n",
              "      <td>7.231</td>\n",
              "      <td>7.231</td>\n",
              "      <td>1.268</td>\n",
              "      <td>1.268</td>\n",
              "      <td>90836</td>\n",
              "      <td>50785.5</td>\n",
              "      <td>2021-07-01 00:01:00</td>\n",
              "    </tr>\n",
              "    <tr>\n",
              "      <th>14863</th>\n",
              "      <td>1625097720</td>\n",
              "      <td>1.329</td>\n",
              "      <td>5.885</td>\n",
              "      <td>1.329</td>\n",
              "      <td>5.885</td>\n",
              "      <td>129194</td>\n",
              "      <td>56363.0</td>\n",
              "      <td>2021-07-01 00:02:00</td>\n",
              "    </tr>\n",
              "    <tr>\n",
              "      <th>14864</th>\n",
              "      <td>1625097780</td>\n",
              "      <td>-1.107</td>\n",
              "      <td>2.961</td>\n",
              "      <td>-1.107</td>\n",
              "      <td>2.961</td>\n",
              "      <td>36630</td>\n",
              "      <td>56346.1</td>\n",
              "      <td>2021-07-01 00:03:00</td>\n",
              "    </tr>\n",
              "    <tr>\n",
              "      <th>14865</th>\n",
              "      <td>1625097840</td>\n",
              "      <td>-3.824</td>\n",
              "      <td>5.177</td>\n",
              "      <td>-3.824</td>\n",
              "      <td>5.177</td>\n",
              "      <td>18918</td>\n",
              "      <td>55690.7</td>\n",
              "      <td>2021-07-01 00:04:00</td>\n",
              "    </tr>\n",
              "    <tr>\n",
              "      <th>14866</th>\n",
              "      <td>1625097900</td>\n",
              "      <td>-1.938</td>\n",
              "      <td>-1.938</td>\n",
              "      <td>-2.851</td>\n",
              "      <td>-2.851</td>\n",
              "      <td>101200</td>\n",
              "      <td>59626.9</td>\n",
              "      <td>2021-07-01 00:05:00</td>\n",
              "    </tr>\n",
              "    <tr>\n",
              "      <th>...</th>\n",
              "      <td>...</td>\n",
              "      <td>...</td>\n",
              "      <td>...</td>\n",
              "      <td>...</td>\n",
              "      <td>...</td>\n",
              "      <td>...</td>\n",
              "      <td>...</td>\n",
              "      <td>...</td>\n",
              "    </tr>\n",
              "    <tr>\n",
              "      <th>28551</th>\n",
              "      <td>1625919600</td>\n",
              "      <td>6.218</td>\n",
              "      <td>8.579</td>\n",
              "      <td>3.956</td>\n",
              "      <td>7.881</td>\n",
              "      <td>35280</td>\n",
              "      <td>46860.9</td>\n",
              "      <td>2021-07-10 12:20:00</td>\n",
              "    </tr>\n",
              "    <tr>\n",
              "      <th>28552</th>\n",
              "      <td>1625919660</td>\n",
              "      <td>7.883</td>\n",
              "      <td>10.471</td>\n",
              "      <td>6.347</td>\n",
              "      <td>6.354</td>\n",
              "      <td>63310</td>\n",
              "      <td>47904.5</td>\n",
              "      <td>2021-07-10 12:21:00</td>\n",
              "    </tr>\n",
              "    <tr>\n",
              "      <th>28553</th>\n",
              "      <td>1625919720</td>\n",
              "      <td>6.220</td>\n",
              "      <td>8.004</td>\n",
              "      <td>3.773</td>\n",
              "      <td>4.590</td>\n",
              "      <td>31170</td>\n",
              "      <td>48325.2</td>\n",
              "      <td>2021-07-10 12:22:00</td>\n",
              "    </tr>\n",
              "    <tr>\n",
              "      <th>28554</th>\n",
              "      <td>1625919780</td>\n",
              "      <td>4.288</td>\n",
              "      <td>5.737</td>\n",
              "      <td>3.636</td>\n",
              "      <td>4.334</td>\n",
              "      <td>4898</td>\n",
              "      <td>46622.8</td>\n",
              "      <td>2021-07-10 12:23:00</td>\n",
              "    </tr>\n",
              "    <tr>\n",
              "      <th>28555</th>\n",
              "      <td>1625919840</td>\n",
              "      <td>4.649</td>\n",
              "      <td>4.649</td>\n",
              "      <td>4.649</td>\n",
              "      <td>4.649</td>\n",
              "      <td>52</td>\n",
              "      <td>43656.5</td>\n",
              "      <td>2021-07-10 12:24:00</td>\n",
              "    </tr>\n",
              "  </tbody>\n",
              "</table>\n",
              "<p>13694 rows × 8 columns</p>\n",
              "</div>"
            ],
            "text/plain": [
              "             time   open    high  ...  Volume  Volume MA            datetime\n",
              "14862  1625097660  7.231   7.231  ...   90836    50785.5 2021-07-01 00:01:00\n",
              "14863  1625097720  1.329   5.885  ...  129194    56363.0 2021-07-01 00:02:00\n",
              "14864  1625097780 -1.107   2.961  ...   36630    56346.1 2021-07-01 00:03:00\n",
              "14865  1625097840 -3.824   5.177  ...   18918    55690.7 2021-07-01 00:04:00\n",
              "14866  1625097900 -1.938  -1.938  ...  101200    59626.9 2021-07-01 00:05:00\n",
              "...           ...    ...     ...  ...     ...        ...                 ...\n",
              "28551  1625919600  6.218   8.579  ...   35280    46860.9 2021-07-10 12:20:00\n",
              "28552  1625919660  7.883  10.471  ...   63310    47904.5 2021-07-10 12:21:00\n",
              "28553  1625919720  6.220   8.004  ...   31170    48325.2 2021-07-10 12:22:00\n",
              "28554  1625919780  4.288   5.737  ...    4898    46622.8 2021-07-10 12:23:00\n",
              "28555  1625919840  4.649   4.649  ...      52    43656.5 2021-07-10 12:24:00\n",
              "\n",
              "[13694 rows x 8 columns]"
            ]
          },
          "metadata": {
            "tags": []
          },
          "execution_count": 307
        }
      ]
    },
    {
      "cell_type": "code",
      "metadata": {
        "id": "qZycIwfxvxCf"
      },
      "source": [
        "a = SPREAD_candles[['time','datetime','high']]\n",
        "b = SPREAD_candles[['time','datetime','low']]\n",
        "c = SPREAD_candles[['time','datetime','open']]\n",
        "d = SPREAD_candles[['time','datetime','close']]\n",
        "a.columns = ['time','datetime','price']\n",
        "b.columns = ['time','datetime','price']\n",
        "c.columns = ['time','datetime','price']\n",
        "d.columns = ['time','datetime','price']\n",
        "candles = pd.concat([a,b,c,d,])\n",
        "candles.sort_values('time',inplace = True)"
      ],
      "execution_count": null,
      "outputs": []
    },
    {
      "cell_type": "code",
      "metadata": {
        "id": "oE5kDzY5xsF9"
      },
      "source": [
        "candles['rolling'] = candles['price'].rolling(4260).mean()\n",
        "candles['ewm'] = (candles['price'].ewm(alpha = 0.001).mean())"
      ],
      "execution_count": null,
      "outputs": []
    },
    {
      "cell_type": "code",
      "metadata": {
        "colab": {
          "base_uri": "https://localhost:8080/",
          "height": 410
        },
        "id": "Qzk43TkAv48u",
        "outputId": "81d3947e-a5c2-4e3c-fc0e-8786ed19bf05"
      },
      "source": [
        "plt.plot(range(len(candles['datetime'])),candles['price'])\n",
        "plt.plot(range(len(candles['datetime'])),candles['ewm'])\n",
        "from statsmodels.tsa.stattools import adfuller\n",
        "adfuller(candles['price'],1)"
      ],
      "execution_count": null,
      "outputs": [
        {
          "output_type": "execute_result",
          "data": {
            "text/plain": [
              "(-87.24188849036531,\n",
              " 0.0,\n",
              " 1,\n",
              " 114222,\n",
              " {'1%': -3.430407252078982,\n",
              "  '10%': -2.566783468723998,\n",
              "  '5%': -2.861565304556664},\n",
              " 648152.732188479)"
            ]
          },
          "metadata": {
            "tags": []
          },
          "execution_count": 310
        },
        {
          "output_type": "display_data",
          "data": {
            "image/png": "[encoded data removed]",
            "text/plain": [
              "<Figure size 432x288 with 1 Axes>"
            ]
          },
          "metadata": {
            "tags": [],
            "needs_background": "light"
          }
        }
      ]
    },
    {
      "cell_type": "code",
      "metadata": {
        "colab": {
          "base_uri": "https://localhost:8080/"
        },
        "id": "xtpRRscLjxUa",
        "outputId": "7d00c9d8-9fe0-46c8-8bdd-1da886c02bf0"
      },
      "source": [
        "#уровни\n",
        "step = 0.05\n",
        "print(' q \\t   v')\n",
        "levels = []\n",
        "quantiles = []\n",
        "for i in np.arange(0,1,step):\n",
        "  quantiles.append(np.around(i+step,2))\n",
        "  print(np.around(i+step,2),'\\t',np.around(np.quantile(candles['price'],i+step),4))\n",
        "  levels.append(np.quantile(candles['price'],i+step))"
      ],
      "execution_count": null,
      "outputs": [
        {
          "output_type": "stream",
          "text": [
            " q \t   v\n",
            "0.05 \t -2.14\n",
            "0.1 \t 0.14\n",
            "0.15 \t 1.5\n",
            "0.2 \t 2.58\n",
            "0.25 \t 3.44\n",
            "0.3 \t 4.19\n",
            "0.35 \t 4.93\n",
            "0.4 \t 5.61\n",
            "0.45 \t 6.24\n",
            "0.5 \t 6.86\n",
            "0.55 \t 7.48\n",
            "0.6 \t 8.1\n",
            "0.65 \t 8.73\n",
            "0.7 \t 9.43\n",
            "0.75 \t 10.22\n",
            "0.8 \t 11.07\n",
            "0.85 \t 12.08\n",
            "0.9 \t 13.45\n",
            "0.95 \t 15.79\n",
            "1.0 \t 45.07\n"
          ],
          "name": "stdout"
        }
      ]
    },
    {
      "cell_type": "code",
      "metadata": {
        "id": "gf6tGi_Ywmml"
      },
      "source": [
        "hours = pd.date_range(start = '2021-07-01 00:00:00',end = '2021-07-10 00:00:00',freq = '1h')\n",
        "levels1h = []\n",
        "delta1h = []\n",
        "for j in levels:\n",
        "  k = []\n",
        "  for i in range(len(hours)-1):\n",
        "    a = candles[(candles['datetime']>=hours[i]) & (candles['datetime']<hours[i+1])]\n",
        "    k.append(len(a[a['price']<=j]))\n",
        "  levels1h.append(np.mean(k))"
      ],
      "execution_count": null,
      "outputs": []
    },
    {
      "cell_type": "code",
      "metadata": {
        "id": "CCqFmcxa3HKX"
      },
      "source": [
        "hours = pd.date_range(start = '2021-07-01 00:00:00',end = '2021-07-10 00:00:00',freq = '24h')\n",
        "levels24h = []\n",
        "delta24h = []\n",
        "for j in levels:\n",
        "  k = []\n",
        "  for i in range(len(hours)-1):\n",
        "    a = candles[(candles['datetime']>=hours[i]) & (candles['datetime']<hours[i+1])]\n",
        "    k.append(len(a[a['price']<=j]))\n",
        "  levels24h.append(np.around(np.mean(k),2))"
      ],
      "execution_count": null,
      "outputs": []
    },
    {
      "cell_type": "code",
      "metadata": {
        "id": "6viE_md3QHPA"
      },
      "source": [
        "hours = pd.date_range(start = '2021-07-01 00:00:00',end = '2021-07-10 00:00:00',freq = '168h')\n",
        "levels1w = []\n",
        "delta1w = []\n",
        "for j in levels:\n",
        "  k = []\n",
        "  c = []\n",
        "  for i in range(len(hours)-1):\n",
        "    a = candles[(candles['datetime']>=hours[i]) & (candles['datetime']<hours[i+1])]\n",
        "    k.append(len(a[a['price']<=j]))\n",
        "  levels1w.append(np.around(np.mean(k),2))\n"
      ],
      "execution_count": null,
      "outputs": []
    },
    {
      "cell_type": "code",
      "metadata": {
        "id": "vqTt6mWdQK2D",
        "colab": {
          "base_uri": "https://localhost:8080/",
          "height": 662
        },
        "outputId": "277039a4-c030-4d32-9fcc-cb5a58f4af49"
      },
      "source": [
        "pd.DataFrame({'prob':quantiles, 'levels':levels, 'average 1h':levels1h, 'average 24h':levels24h, 'average 168h':levels1w})"
      ],
      "execution_count": null,
      "outputs": [
        {
          "output_type": "execute_result",
          "data": {
            "text/html": [
              "<div>\n",
              "<style scoped>\n",
              "    .dataframe tbody tr th:only-of-type {\n",
              "        vertical-align: middle;\n",
              "    }\n",
              "\n",
              "    .dataframe tbody tr th {\n",
              "        vertical-align: top;\n",
              "    }\n",
              "\n",
              "    .dataframe thead th {\n",
              "        text-align: right;\n",
              "    }\n",
              "</style>\n",
              "<table border=\"1\" class=\"dataframe\">\n",
              "  <thead>\n",
              "    <tr style=\"text-align: right;\">\n",
              "      <th></th>\n",
              "      <th>prob</th>\n",
              "      <th>levels</th>\n",
              "      <th>average 1h</th>\n",
              "      <th>average 24h</th>\n",
              "      <th>average 168h</th>\n",
              "    </tr>\n",
              "  </thead>\n",
              "  <tbody>\n",
              "    <tr>\n",
              "      <th>0</th>\n",
              "      <td>0.05</td>\n",
              "      <td>-2.14</td>\n",
              "      <td>10.768519</td>\n",
              "      <td>258.44</td>\n",
              "      <td>1490.0</td>\n",
              "    </tr>\n",
              "    <tr>\n",
              "      <th>1</th>\n",
              "      <td>0.10</td>\n",
              "      <td>0.14</td>\n",
              "      <td>21.574074</td>\n",
              "      <td>517.78</td>\n",
              "      <td>2947.0</td>\n",
              "    </tr>\n",
              "    <tr>\n",
              "      <th>2</th>\n",
              "      <td>0.15</td>\n",
              "      <td>1.50</td>\n",
              "      <td>32.472222</td>\n",
              "      <td>779.33</td>\n",
              "      <td>4459.0</td>\n",
              "    </tr>\n",
              "    <tr>\n",
              "      <th>3</th>\n",
              "      <td>0.20</td>\n",
              "      <td>2.58</td>\n",
              "      <td>43.759259</td>\n",
              "      <td>1050.22</td>\n",
              "      <td>5965.0</td>\n",
              "    </tr>\n",
              "    <tr>\n",
              "      <th>4</th>\n",
              "      <td>0.25</td>\n",
              "      <td>3.44</td>\n",
              "      <td>54.916667</td>\n",
              "      <td>1318.00</td>\n",
              "      <td>7480.0</td>\n",
              "    </tr>\n",
              "    <tr>\n",
              "      <th>5</th>\n",
              "      <td>0.30</td>\n",
              "      <td>4.19</td>\n",
              "      <td>66.462963</td>\n",
              "      <td>1595.11</td>\n",
              "      <td>9137.0</td>\n",
              "    </tr>\n",
              "    <tr>\n",
              "      <th>6</th>\n",
              "      <td>0.35</td>\n",
              "      <td>4.93</td>\n",
              "      <td>78.032407</td>\n",
              "      <td>1872.78</td>\n",
              "      <td>10869.0</td>\n",
              "    </tr>\n",
              "    <tr>\n",
              "      <th>7</th>\n",
              "      <td>0.40</td>\n",
              "      <td>5.61</td>\n",
              "      <td>89.925926</td>\n",
              "      <td>2158.22</td>\n",
              "      <td>12682.0</td>\n",
              "    </tr>\n",
              "    <tr>\n",
              "      <th>8</th>\n",
              "      <td>0.45</td>\n",
              "      <td>6.24</td>\n",
              "      <td>101.652778</td>\n",
              "      <td>2439.67</td>\n",
              "      <td>14506.0</td>\n",
              "    </tr>\n",
              "    <tr>\n",
              "      <th>9</th>\n",
              "      <td>0.50</td>\n",
              "      <td>6.86</td>\n",
              "      <td>113.731481</td>\n",
              "      <td>2729.56</td>\n",
              "      <td>16529.0</td>\n",
              "    </tr>\n",
              "    <tr>\n",
              "      <th>10</th>\n",
              "      <td>0.55</td>\n",
              "      <td>7.48</td>\n",
              "      <td>126.180556</td>\n",
              "      <td>3028.33</td>\n",
              "      <td>18647.0</td>\n",
              "    </tr>\n",
              "    <tr>\n",
              "      <th>11</th>\n",
              "      <td>0.60</td>\n",
              "      <td>8.10</td>\n",
              "      <td>138.435185</td>\n",
              "      <td>3322.44</td>\n",
              "      <td>20748.0</td>\n",
              "    </tr>\n",
              "    <tr>\n",
              "      <th>12</th>\n",
              "      <td>0.65</td>\n",
              "      <td>8.73</td>\n",
              "      <td>150.888889</td>\n",
              "      <td>3621.33</td>\n",
              "      <td>22942.0</td>\n",
              "    </tr>\n",
              "    <tr>\n",
              "      <th>13</th>\n",
              "      <td>0.70</td>\n",
              "      <td>9.43</td>\n",
              "      <td>163.393519</td>\n",
              "      <td>3921.44</td>\n",
              "      <td>25284.0</td>\n",
              "    </tr>\n",
              "    <tr>\n",
              "      <th>14</th>\n",
              "      <td>0.75</td>\n",
              "      <td>10.22</td>\n",
              "      <td>176.115741</td>\n",
              "      <td>4226.78</td>\n",
              "      <td>27710.0</td>\n",
              "    </tr>\n",
              "    <tr>\n",
              "      <th>15</th>\n",
              "      <td>0.80</td>\n",
              "      <td>11.07</td>\n",
              "      <td>188.879630</td>\n",
              "      <td>4533.11</td>\n",
              "      <td>30184.0</td>\n",
              "    </tr>\n",
              "    <tr>\n",
              "      <th>16</th>\n",
              "      <td>0.85</td>\n",
              "      <td>12.08</td>\n",
              "      <td>201.495370</td>\n",
              "      <td>4835.89</td>\n",
              "      <td>32656.0</td>\n",
              "    </tr>\n",
              "    <tr>\n",
              "      <th>17</th>\n",
              "      <td>0.90</td>\n",
              "      <td>13.45</td>\n",
              "      <td>214.259259</td>\n",
              "      <td>5142.22</td>\n",
              "      <td>35194.0</td>\n",
              "    </tr>\n",
              "    <tr>\n",
              "      <th>18</th>\n",
              "      <td>0.95</td>\n",
              "      <td>15.79</td>\n",
              "      <td>226.953704</td>\n",
              "      <td>5446.89</td>\n",
              "      <td>37712.0</td>\n",
              "    </tr>\n",
              "    <tr>\n",
              "      <th>19</th>\n",
              "      <td>1.00</td>\n",
              "      <td>45.07</td>\n",
              "      <td>239.981481</td>\n",
              "      <td>5759.56</td>\n",
              "      <td>40316.0</td>\n",
              "    </tr>\n",
              "  </tbody>\n",
              "</table>\n",
              "</div>"
            ],
            "text/plain": [
              "    prob  levels  average 1h  average 24h  average 168h\n",
              "0   0.05   -2.14   10.768519       258.44        1490.0\n",
              "1   0.10    0.14   21.574074       517.78        2947.0\n",
              "2   0.15    1.50   32.472222       779.33        4459.0\n",
              "3   0.20    2.58   43.759259      1050.22        5965.0\n",
              "4   0.25    3.44   54.916667      1318.00        7480.0\n",
              "5   0.30    4.19   66.462963      1595.11        9137.0\n",
              "6   0.35    4.93   78.032407      1872.78       10869.0\n",
              "7   0.40    5.61   89.925926      2158.22       12682.0\n",
              "8   0.45    6.24  101.652778      2439.67       14506.0\n",
              "9   0.50    6.86  113.731481      2729.56       16529.0\n",
              "10  0.55    7.48  126.180556      3028.33       18647.0\n",
              "11  0.60    8.10  138.435185      3322.44       20748.0\n",
              "12  0.65    8.73  150.888889      3621.33       22942.0\n",
              "13  0.70    9.43  163.393519      3921.44       25284.0\n",
              "14  0.75   10.22  176.115741      4226.78       27710.0\n",
              "15  0.80   11.07  188.879630      4533.11       30184.0\n",
              "16  0.85   12.08  201.495370      4835.89       32656.0\n",
              "17  0.90   13.45  214.259259      5142.22       35194.0\n",
              "18  0.95   15.79  226.953704      5446.89       37712.0\n",
              "19  1.00   45.07  239.981481      5759.56       40316.0"
            ]
          },
          "metadata": {
            "tags": []
          },
          "execution_count": 306
        }
      ]
    },
    {
      "cell_type": "code",
      "metadata": {
        "id": "X6XVIgDZmNaX"
      },
      "source": [
        ""
      ],
      "execution_count": null,
      "outputs": []
    }
  ]
}